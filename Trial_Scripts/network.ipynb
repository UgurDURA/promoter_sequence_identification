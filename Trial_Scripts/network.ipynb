{
 "cells": [
  {
   "cell_type": "code",
   "execution_count": 15,
   "metadata": {},
   "outputs": [],
   "source": [
    "import pandas as pd\n",
    "import numpy as np\n",
    "\n",
    "import pandas as pd\n",
    "import numpy as np\n",
    "import matplotlib.pyplot as plt\n",
    " \n",
    "\n",
    "\n",
    "df=pd.read_csv('/Users/ugur_dura/Desktop/IN2393-Machine Learning for Regulatory Genomics/Project/promoter_sequence_identification/data/parsed_data/cofactor_expression_data.csv')"
   ]
  },
  {
   "cell_type": "code",
   "execution_count": 21,
   "metadata": {},
   "outputs": [
    {
     "name": "stdout",
     "output_type": "stream",
     "text": [
      "71630\n",
      "Number of 'chr2R' occurrences with TSS value 1: 14288\n",
      "0.19946949602122016\n"
     ]
    }
   ],
   "source": [
    "\n",
    "print(len(df))\n",
    "\n",
    "count_chr2R_with_value_1 = df[(df['seqnames'] == 'chr2R') & (df['TSS'] == 1)].shape[0]\n",
    "print(\"Number of 'chr2R' occurrences with TSS value 1:\", count_chr2R_with_value_1)\n",
    "\n",
    "# count_chr2R_with_value_1 = df[(df['seqnames'] == 'chr2R') & (df['TSS'] == 0)].shape[0]\n",
    "# print(\"Number of 'chr2R' occurrences with TSS value 0:\", count_chr2R_with_value_1)\n",
    "\n",
    "print(count_chr2R_with_value_1/ len(df))"
   ]
  },
  {
   "cell_type": "code",
   "execution_count": 4,
   "metadata": {},
   "outputs": [
    {
     "data": {
      "text/plain": [
       "Index(['Unnamed: 0', 'TSS', 'seqnames', 'start', 'end', 'strand', 'id',\n",
       "       'sequence', 'sequence_len'],\n",
       "      dtype='object')"
      ]
     },
     "execution_count": 4,
     "metadata": {},
     "output_type": "execute_result"
    }
   ],
   "source": [
    "df.columns"
   ]
  },
  {
   "cell_type": "code",
   "execution_count": 5,
   "metadata": {},
   "outputs": [
    {
     "data": {
      "text/plain": [
       "array(['chrY', 'chr2R', 'chr3R', 'chr2L', 'chr3L', 'chrX', 'chr4'],\n",
       "      dtype=object)"
      ]
     },
     "execution_count": 5,
     "metadata": {},
     "output_type": "execute_result"
    }
   ],
   "source": [
    "df['seqnames'].unique()"
   ]
  },
  {
   "cell_type": "code",
   "execution_count": 6,
   "metadata": {},
   "outputs": [],
   "source": [
    "# counts = df['set'].value_counts()\n",
    "# print(counts)"
   ]
  },
  {
   "cell_type": "code",
   "execution_count": 7,
   "metadata": {},
   "outputs": [],
   "source": [
    "import pandas as pd\n",
    "import numpy as np\n",
    "\n",
    "# Create a dictionary to map the seqnames to the desired set\n",
    "set_mapping = {\n",
    "    'chr2L': 'train',\n",
    "    'chrX': 'train',\n",
    "    'chr3R': 'train',\n",
    "    'chr3L': 'train',\n",
    "    'chrY': 'train',\n",
    "    'chr4': 'train',\n",
    "    'chr2R': np.nan  # placeholder value\n",
    "}\n",
    "\n",
    "# Add the 'set' column to the dataframe\n",
    "df['set'] = ''\n",
    "\n",
    "# Shuffle and assign sets for 'chr2R'\n",
    "df_chr2R = df[df['seqnames'] == 'chr2R'].copy()  # subset containing only 'chr2R'\n",
    "df_chr2R = df_chr2R.sample(frac=1, random_state=42)  # shuffle the subset\n",
    "\n",
    "test_size = int(len(df_chr2R) * 0.5)  # 50% for test set\n",
    "validation_size = int(len(df_chr2R) * 0.5)  # 50% for validation set\n",
    "\n",
    "df_chr2R.iloc[:test_size, df.columns.get_loc('set')] = 'test'  # assign 'test' to the first half\n",
    "df_chr2R.iloc[test_size:test_size + validation_size, df.columns.get_loc('set')] = 'validation'  # assign 'validation' to the second half\n",
    "\n",
    "# Assign the set values for the other seqnames\n",
    "df.loc[df['seqnames'].isin(['chr2L', 'chrX', 'chr3R', 'chr3L', 'chrY', 'chr4']), 'set'] = 'train'\n",
    "\n",
    "# Update the set values for 'chr2R' by merging the modified subset back into the main dataframe\n",
    "df.loc[df['seqnames'] == 'chr2R', 'set'] = df_chr2R['set'].values\n",
    "\n",
    "# Shuffle the dataframe\n",
    "df = df.sample(frac=1, random_state=42)\n",
    "\n",
    "# Reset the index\n",
    "df.reset_index(drop=True, inplace=True)\n"
   ]
  },
  {
   "cell_type": "code",
   "execution_count": 8,
   "metadata": {},
   "outputs": [
    {
     "name": "stdout",
     "output_type": "stream",
     "text": [
      "       TSS seqnames     start       end strand   \n",
      "0        0    chr2R  21865871  21866119      +  \\\n",
      "1        0    chr2L  22471123  22471371      +   \n",
      "2        0     chrX   3650955   3651203      +   \n",
      "3        0     chrX   4621549   4621797      +   \n",
      "4        0    chr2R   3168864   3169112      +   \n",
      "...    ...      ...       ...       ...    ...   \n",
      "61726    0    chr2R   7601529   7601777      +   \n",
      "61727    0    chr3L  15550601  15550849      +   \n",
      "61728    0     chrY   1117576   1117824      +   \n",
      "61729    1    chr2L   9543923   9544171      +   \n",
      "61730    0     chrX   5703956   5704204      +   \n",
      "\n",
      "                                    id   \n",
      "0           18584_chr2R:21865871:+_neg  \\\n",
      "1           13830_chr2L:22471123:+_neg   \n",
      "2              4543_chrX:3650955:+_neg   \n",
      "3              2049_chrX:4621549:+_neg   \n",
      "4            18291_chr2R:3168864:+_neg   \n",
      "...                                ...   \n",
      "61726        17030_chr2R:7601529:+_neg   \n",
      "61727       24307_chr3L:15550601:+_neg   \n",
      "61728         39821_chrY:1117576:+_neg   \n",
      "61729  FBgn0032126_chr2L:9543923:+_TSS   \n",
      "61730          2994_chrX:5703956:+_neg   \n",
      "\n",
      "                                                sequence  sequence_len   \n",
      "0      TATTGATAGACGAACGCCCCCTCTTCACATTCAGTTGCGTCATAAT...           249  \\\n",
      "1      GTAGAACCCAAGTCTACCCGCAATACAAACACACTTTGGAGACTTA...           249   \n",
      "2      CCTCATCCTCATCCTCATCCGCATCCTCATCCTTGTGCTCATGCTC...           249   \n",
      "3      GCACAAGGCTAACAACAATCTAAAGGACTTGGAGGAGCTGGAGGTT...           249   \n",
      "4      AAATCCAGAAAAGTGAACTTTTTTTGAGAAGTTACTTATTTAAGTC...           249   \n",
      "...                                                  ...           ...   \n",
      "61726  TTTGTAGTGAAACAAGCTAAATGCATCTAATGGCTTCAACTGCAAA...           249   \n",
      "61727  TTTGTTTAATAGTCATTTCAGGAATAGTTTTGGCCATATGAAGAAC...           249   \n",
      "61728  TGCTGCTAGGGGGGTTGTGTAGTGTATCTACCCTCAATATGTAGAG...           249   \n",
      "61729  TGTGTGTTTGGCTTCTTCAGTGAATTCGTATCATTATATTTGCGAA...           249   \n",
      "61730  GCAAGGTGAAGGTCCAGGGAGGCCGTCAAATTAGGCGCCACCATCA...           249   \n",
      "\n",
      "              set  \n",
      "0      validation  \n",
      "1           train  \n",
      "2           train  \n",
      "3           train  \n",
      "4            test  \n",
      "...           ...  \n",
      "61726  validation  \n",
      "61727       train  \n",
      "61728       train  \n",
      "61729       train  \n",
      "61730       train  \n",
      "\n",
      "[61731 rows x 9 columns]\n"
     ]
    }
   ],
   "source": [
    "df.drop('Unnamed: 0', axis=1, inplace=True)\n",
    "\n",
    "print(df)\n",
    "\n"
   ]
  },
  {
   "cell_type": "code",
   "execution_count": 9,
   "metadata": {},
   "outputs": [],
   "source": [
    "df.to_csv('deneme.csv')\n",
    "\n",
    "data =df "
   ]
  },
  {
   "cell_type": "code",
   "execution_count": 10,
   "metadata": {},
   "outputs": [
    {
     "name": "stdout",
     "output_type": "stream",
     "text": [
      "set\n",
      "train         49626\n",
      "validation     6052\n",
      "test           6052\n",
      "                  1\n",
      "Name: count, dtype: int64\n"
     ]
    }
   ],
   "source": [
    "counts = data['set'].value_counts()\n",
    "print(counts)"
   ]
  },
  {
   "cell_type": "code",
   "execution_count": null,
   "metadata": {},
   "outputs": [],
   "source": []
  },
  {
   "cell_type": "code",
   "execution_count": 11,
   "metadata": {},
   "outputs": [],
   "source": [
    "# define a dictionary to map nucleotides to their one-hot encoded representation\n",
    "nucleotide_dict = {'A': [1, 0, 0, 0],\n",
    "                   'C': [0, 1, 0, 0],\n",
    "                   'G': [0, 0, 1, 0],\n",
    "                   'T': [0, 0, 0, 1],\n",
    "                   'N': [0, 0, 0, 0]} # sometimes there are Ns\n",
    "\n",
    "# define a function to one-hot encode a single DNA sequence\n",
    "def one_hot_encode(seq):\n",
    "    return np.array([nucleotide_dict[nuc] for nuc in seq])\n",
    "\n",
    "# function to load sequences and enhancer activity\n",
    "def prepare_input(data_set):\n",
    "\n",
    "  # one-hot encode DNA sequences, apply function\n",
    "  seq_matrix = np.array(data_set['sequence'].apply(one_hot_encode).tolist())\n",
    "  print(seq_matrix.shape) # dimensions are (number of sequences, length of sequences, nucleotides)\n",
    "\n",
    "  # Get output array with dev and hk activities\n",
    "  Y = data_set['TSS']\n",
    "\n",
    "  return seq_matrix, Y"
   ]
  },
  {
   "cell_type": "code",
   "execution_count": 12,
   "metadata": {},
   "outputs": [
    {
     "name": "stdout",
     "output_type": "stream",
     "text": [
      "(49626, 249, 4)\n",
      "(6052, 249, 4)\n",
      "(6052, 249, 4)\n"
     ]
    }
   ],
   "source": [
    "X_train, Y_train = prepare_input(data[data['set'] == \"train\"])\n",
    "X_valid, Y_valid = prepare_input(data[data['set'] == \"validation\"])\n",
    "X_test, Y_test = prepare_input(data[data['set'] == \"test\"])"
   ]
  },
  {
   "cell_type": "code",
   "execution_count": 77,
   "metadata": {},
   "outputs": [
    {
     "data": {
      "text/plain": [
       "array([[0, 1, 0, 0],\n",
       "       [0, 1, 0, 0],\n",
       "       [0, 0, 1, 0],\n",
       "       [1, 0, 0, 0],\n",
       "       [0, 0, 1, 0],\n",
       "       [0, 0, 1, 0],\n",
       "       [0, 0, 1, 0],\n",
       "       [1, 0, 0, 0],\n",
       "       [0, 1, 0, 0],\n",
       "       [0, 0, 0, 1],\n",
       "       [0, 0, 0, 1],\n",
       "       [0, 0, 1, 0],\n",
       "       [0, 0, 0, 1],\n",
       "       [0, 0, 0, 1],\n",
       "       [1, 0, 0, 0],\n",
       "       [0, 0, 1, 0],\n",
       "       [0, 1, 0, 0],\n",
       "       [0, 1, 0, 0],\n",
       "       [0, 1, 0, 0],\n",
       "       [1, 0, 0, 0],\n",
       "       [1, 0, 0, 0],\n",
       "       [0, 0, 0, 1],\n",
       "       [0, 0, 0, 1],\n",
       "       [1, 0, 0, 0],\n",
       "       [1, 0, 0, 0],\n",
       "       [0, 0, 0, 1],\n",
       "       [1, 0, 0, 0],\n",
       "       [1, 0, 0, 0],\n",
       "       [0, 0, 0, 1],\n",
       "       [0, 0, 0, 1],\n",
       "       [1, 0, 0, 0],\n",
       "       [0, 0, 0, 1],\n",
       "       [0, 0, 0, 1],\n",
       "       [1, 0, 0, 0],\n",
       "       [0, 0, 0, 1],\n",
       "       [0, 0, 0, 1],\n",
       "       [0, 0, 1, 0],\n",
       "       [0, 0, 1, 0],\n",
       "       [0, 1, 0, 0],\n",
       "       [0, 1, 0, 0],\n",
       "       [0, 0, 1, 0],\n",
       "       [0, 0, 1, 0],\n",
       "       [1, 0, 0, 0],\n",
       "       [0, 0, 1, 0],\n",
       "       [0, 0, 0, 1],\n",
       "       [0, 0, 0, 1],\n",
       "       [1, 0, 0, 0],\n",
       "       [0, 0, 1, 0],\n",
       "       [1, 0, 0, 0],\n",
       "       [0, 0, 1, 0],\n",
       "       [1, 0, 0, 0],\n",
       "       [1, 0, 0, 0],\n",
       "       [0, 0, 1, 0],\n",
       "       [1, 0, 0, 0],\n",
       "       [0, 0, 0, 1],\n",
       "       [0, 0, 1, 0],\n",
       "       [1, 0, 0, 0],\n",
       "       [0, 0, 0, 1],\n",
       "       [0, 0, 1, 0],\n",
       "       [1, 0, 0, 0],\n",
       "       [1, 0, 0, 0],\n",
       "       [0, 0, 1, 0],\n",
       "       [0, 0, 0, 1],\n",
       "       [0, 1, 0, 0],\n",
       "       [0, 0, 0, 1],\n",
       "       [0, 0, 0, 1],\n",
       "       [0, 0, 0, 1],\n",
       "       [0, 0, 1, 0],\n",
       "       [0, 0, 1, 0],\n",
       "       [0, 0, 0, 1],\n",
       "       [0, 0, 1, 0],\n",
       "       [0, 0, 0, 1],\n",
       "       [0, 0, 1, 0],\n",
       "       [0, 0, 1, 0],\n",
       "       [0, 0, 1, 0],\n",
       "       [1, 0, 0, 0],\n",
       "       [0, 0, 1, 0],\n",
       "       [0, 0, 1, 0],\n",
       "       [0, 1, 0, 0],\n",
       "       [0, 1, 0, 0],\n",
       "       [0, 0, 0, 1],\n",
       "       [0, 0, 0, 1],\n",
       "       [0, 0, 1, 0],\n",
       "       [0, 0, 1, 0],\n",
       "       [0, 1, 0, 0],\n",
       "       [0, 0, 0, 1],\n",
       "       [0, 0, 0, 1],\n",
       "       [0, 0, 0, 1],\n",
       "       [0, 1, 0, 0],\n",
       "       [0, 0, 0, 1],\n",
       "       [0, 1, 0, 0],\n",
       "       [0, 0, 0, 1],\n",
       "       [0, 0, 1, 0],\n",
       "       [0, 1, 0, 0],\n",
       "       [0, 0, 1, 0],\n",
       "       [0, 1, 0, 0],\n",
       "       [0, 1, 0, 0],\n",
       "       [0, 0, 0, 1],\n",
       "       [0, 0, 1, 0],\n",
       "       [0, 1, 0, 0],\n",
       "       [0, 1, 0, 0],\n",
       "       [0, 1, 0, 0],\n",
       "       [1, 0, 0, 0],\n",
       "       [0, 1, 0, 0],\n",
       "       [1, 0, 0, 0],\n",
       "       [0, 0, 1, 0],\n",
       "       [0, 1, 0, 0],\n",
       "       [0, 1, 0, 0],\n",
       "       [0, 0, 1, 0],\n",
       "       [1, 0, 0, 0],\n",
       "       [0, 0, 1, 0],\n",
       "       [1, 0, 0, 0],\n",
       "       [0, 0, 0, 1],\n",
       "       [0, 0, 0, 1],\n",
       "       [0, 0, 0, 1],\n",
       "       [1, 0, 0, 0],\n",
       "       [1, 0, 0, 0],\n",
       "       [0, 0, 0, 1],\n",
       "       [0, 0, 0, 1],\n",
       "       [1, 0, 0, 0],\n",
       "       [1, 0, 0, 0],\n",
       "       [0, 0, 0, 1],\n",
       "       [0, 0, 0, 1],\n",
       "       [0, 0, 1, 0],\n",
       "       [0, 1, 0, 0],\n",
       "       [0, 1, 0, 0],\n",
       "       [0, 0, 1, 0],\n",
       "       [0, 1, 0, 0],\n",
       "       [0, 0, 1, 0],\n",
       "       [0, 0, 0, 1],\n",
       "       [1, 0, 0, 0],\n",
       "       [1, 0, 0, 0],\n",
       "       [1, 0, 0, 0],\n",
       "       [1, 0, 0, 0],\n",
       "       [0, 0, 0, 1],\n",
       "       [0, 0, 0, 1],\n",
       "       [1, 0, 0, 0],\n",
       "       [1, 0, 0, 0],\n",
       "       [0, 0, 0, 1],\n",
       "       [0, 0, 0, 1],\n",
       "       [0, 0, 0, 1],\n",
       "       [0, 1, 0, 0],\n",
       "       [1, 0, 0, 0],\n",
       "       [0, 0, 0, 1],\n",
       "       [0, 0, 0, 1],\n",
       "       [0, 0, 0, 1],\n",
       "       [0, 1, 0, 0],\n",
       "       [1, 0, 0, 0],\n",
       "       [1, 0, 0, 0],\n",
       "       [0, 0, 0, 1],\n",
       "       [0, 0, 0, 1],\n",
       "       [0, 0, 1, 0],\n",
       "       [0, 0, 0, 1],\n",
       "       [0, 0, 1, 0],\n",
       "       [0, 1, 0, 0],\n",
       "       [1, 0, 0, 0],\n",
       "       [0, 0, 1, 0],\n",
       "       [0, 0, 0, 1],\n",
       "       [0, 1, 0, 0],\n",
       "       [0, 0, 1, 0],\n",
       "       [0, 1, 0, 0],\n",
       "       [1, 0, 0, 0],\n",
       "       [0, 0, 0, 1],\n",
       "       [0, 1, 0, 0],\n",
       "       [1, 0, 0, 0],\n",
       "       [0, 0, 0, 1],\n",
       "       [0, 0, 0, 1],\n",
       "       [1, 0, 0, 0],\n",
       "       [0, 0, 1, 0],\n",
       "       [0, 1, 0, 0],\n",
       "       [1, 0, 0, 0],\n",
       "       [0, 0, 1, 0],\n",
       "       [0, 0, 0, 1],\n",
       "       [0, 0, 0, 1],\n",
       "       [0, 1, 0, 0],\n",
       "       [0, 0, 1, 0],\n",
       "       [0, 1, 0, 0],\n",
       "       [1, 0, 0, 0],\n",
       "       [0, 1, 0, 0],\n",
       "       [0, 1, 0, 0],\n",
       "       [0, 1, 0, 0],\n",
       "       [0, 1, 0, 0],\n",
       "       [0, 1, 0, 0],\n",
       "       [0, 0, 0, 1],\n",
       "       [0, 1, 0, 0],\n",
       "       [0, 1, 0, 0],\n",
       "       [0, 1, 0, 0],\n",
       "       [0, 0, 1, 0],\n",
       "       [1, 0, 0, 0],\n",
       "       [1, 0, 0, 0],\n",
       "       [1, 0, 0, 0],\n",
       "       [1, 0, 0, 0],\n",
       "       [0, 0, 0, 1],\n",
       "       [1, 0, 0, 0],\n",
       "       [0, 0, 1, 0],\n",
       "       [0, 0, 0, 1],\n",
       "       [0, 0, 0, 1],\n",
       "       [0, 0, 1, 0],\n",
       "       [0, 0, 1, 0],\n",
       "       [0, 0, 1, 0],\n",
       "       [1, 0, 0, 0],\n",
       "       [0, 1, 0, 0],\n",
       "       [0, 1, 0, 0],\n",
       "       [0, 1, 0, 0],\n",
       "       [0, 1, 0, 0],\n",
       "       [0, 0, 1, 0],\n",
       "       [1, 0, 0, 0],\n",
       "       [1, 0, 0, 0],\n",
       "       [1, 0, 0, 0],\n",
       "       [0, 1, 0, 0],\n",
       "       [0, 1, 0, 0],\n",
       "       [0, 0, 0, 1],\n",
       "       [0, 0, 1, 0],\n",
       "       [0, 1, 0, 0],\n",
       "       [0, 0, 0, 1],\n",
       "       [0, 0, 1, 0],\n",
       "       [1, 0, 0, 0],\n",
       "       [0, 0, 1, 0],\n",
       "       [0, 0, 0, 1],\n",
       "       [1, 0, 0, 0],\n",
       "       [1, 0, 0, 0],\n",
       "       [0, 0, 1, 0],\n",
       "       [0, 1, 0, 0],\n",
       "       [1, 0, 0, 0],\n",
       "       [1, 0, 0, 0],\n",
       "       [0, 0, 0, 1],\n",
       "       [0, 0, 1, 0],\n",
       "       [1, 0, 0, 0],\n",
       "       [0, 0, 0, 1],\n",
       "       [1, 0, 0, 0],\n",
       "       [0, 0, 0, 1],\n",
       "       [0, 1, 0, 0],\n",
       "       [0, 0, 1, 0],\n",
       "       [0, 0, 0, 1],\n",
       "       [0, 0, 0, 1],\n",
       "       [0, 0, 0, 1],\n",
       "       [0, 0, 1, 0],\n",
       "       [0, 0, 0, 1],\n",
       "       [1, 0, 0, 0],\n",
       "       [1, 0, 0, 0],\n",
       "       [0, 0, 1, 0],\n",
       "       [0, 0, 0, 1],\n",
       "       [0, 0, 0, 1],\n",
       "       [0, 0, 0, 1],\n",
       "       [0, 0, 0, 1],\n",
       "       [0, 0, 1, 0],\n",
       "       [0, 0, 0, 1],\n",
       "       [1, 0, 0, 0],\n",
       "       [1, 0, 0, 0]])"
      ]
     },
     "execution_count": 77,
     "metadata": {},
     "output_type": "execute_result"
    }
   ],
   "source": [
    "X_train[0]"
   ]
  },
  {
   "cell_type": "code",
   "execution_count": 14,
   "metadata": {},
   "outputs": [
    {
     "data": {
      "image/png": "[encoded data removed]",
      "text/plain": [
       "<Figure size 640x480 with 1 Axes>"
      ]
     },
     "metadata": {},
     "output_type": "display_data"
    },
    {
     "data": {
      "image/png": "[encoded data removed]",
      "text/plain": [
       "<Figure size 640x480 with 1 Axes>"
      ]
     },
     "metadata": {},
     "output_type": "display_data"
    },
    {
     "data": {
      "image/png": "[encoded data removed]",
      "text/plain": [
       "<Figure size 640x480 with 1 Axes>"
      ]
     },
     "metadata": {},
     "output_type": "display_data"
    }
   ],
   "source": [
    "def hist_activities(set, Y):\n",
    "  \n",
    "  plt.hist(Y, alpha=0.5, bins=50, label=set, color='red', range=[-5.5, 9])\n",
    " \n",
    "\n",
    "  plt.legend(loc='upper right')\n",
    "  plt.ylabel('Frequency')\n",
    "  plt.title(set)\n",
    "\n",
    "  plt.show()\n",
    "\n",
    "hist_activities(\"Train\", Y_train)\n",
    "hist_activities(\"Val\", Y_valid)\n",
    "hist_activities(\"Test\", Y_test)"
   ]
  }
 ],
 "metadata": {
  "kernelspec": {
   "display_name": "IN2393",
   "language": "python",
   "name": "python3"
  },
  "language_info": {
   "codemirror_mode": {
    "name": "ipython",
    "version": 3
   },
   "file_extension": ".py",
   "mimetype": "text/x-python",
   "name": "python",
   "nbconvert_exporter": "python",
   "pygments_lexer": "ipython3",
   "version": "3.9.16"
  },
  "orig_nbformat": 4
 },
 "nbformat": 4,
 "nbformat_minor": 2
}
